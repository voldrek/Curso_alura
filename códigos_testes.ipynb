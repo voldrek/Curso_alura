{
  "nbformat": 4,
  "nbformat_minor": 0,
  "metadata": {
    "colab": {
      "provenance": [],
      "authorship_tag": "ABX9TyNvyMZNDngSS0V36MiLfnMi",
      "include_colab_link": true
    },
    "kernelspec": {
      "name": "python3",
      "display_name": "Python 3"
    },
    "language_info": {
      "name": "python"
    }
  },
  "cells": [
    {
      "cell_type": "markdown",
      "metadata": {
        "id": "view-in-github",
        "colab_type": "text"
      },
      "source": [
        "<a href=\"https://colab.research.google.com/github/voldrek/Curso_alura/blob/main/c%C3%B3digos_testes.ipynb\" target=\"_parent\"><img src=\"https://colab.research.google.com/assets/colab-badge.svg\" alt=\"Open In Colab\"/></a>"
      ]
    },
    {
      "cell_type": "markdown",
      "source": [
        "#Teste"
      ],
      "metadata": {
        "id": "fznfrKNw64gw"
      }
    },
    {
      "cell_type": "code",
      "source": [
        "import numpy as np\n",
        "import pandas as pd"
      ],
      "metadata": {
        "id": "Yg4Lt5UnCgJg"
      },
      "execution_count": null,
      "outputs": []
    },
    {
      "cell_type": "code",
      "execution_count": null,
      "metadata": {
        "id": "Z03yznKg6p1Q"
      },
      "outputs": [],
      "source": [
        "user = []\n",
        "for v in range(0,100):\n",
        "  nome = input(\"Digite seu nome(Digite sair para encerrar o cadastro): \")\n",
        "  if nome == 'sair':\n",
        "    break\n",
        "  senha = input('Digite sua senha: ')\n",
        "  user.append([nome,senha])"
      ]
    },
    {
      "cell_type": "code",
      "source": [
        "user"
      ],
      "metadata": {
        "id": "o-JS55GcAIIR"
      },
      "execution_count": null,
      "outputs": []
    },
    {
      "cell_type": "markdown",
      "source": [
        "#Tabelando usuários e senhas"
      ],
      "metadata": {
        "id": "zUL5foa1mHrz"
      }
    },
    {
      "cell_type": "code",
      "source": [
        "DataFrame = pd.DataFrame(user, columns=['nome','senha'])\n",
        "classificando_user = DataFrame.sort_values(['nome','senha'])\n",
        "print(classificando_user)"
      ],
      "metadata": {
        "id": "wTOCsvpnl9RT"
      },
      "execution_count": null,
      "outputs": []
    },
    {
      "cell_type": "markdown",
      "source": [
        "#testando login e senha"
      ],
      "metadata": {
        "id": "U7XsQ37-q2DY"
      }
    },
    {
      "cell_type": "code",
      "source": [
        "# Solicitar ao usuário que digite o nome de usuário e senha\n",
        "nome = input('Nome de usuário: ')\n",
        "senha = input('Senha: ')\n",
        "\n",
        "# Verificar se o nome de usuário e senha estão corretos\n",
        "if nome in user and senha == user[user.index(nome) + 1]:\n",
        "    print('Login bem-sucedido!')\n",
        "else:\n",
        "    print('Nome de usuário ou senha incorretos.')\n"
      ],
      "metadata": {
        "id": "XFBpQ0n-q5om"
      },
      "execution_count": null,
      "outputs": []
    },
    {
      "cell_type": "code",
      "source": [
        "print(user)"
      ],
      "metadata": {
        "id": "hkhxMWXcq5vt"
      },
      "execution_count": null,
      "outputs": []
    },
    {
      "cell_type": "markdown",
      "source": [
        "#apagar informações da Tabela"
      ],
      "metadata": {
        "id": "CMFIgfUdLDuS"
      }
    },
    {
      "cell_type": "code",
      "source": [
        "# Comando para excluir colunas excel\n",
        "df = pd.read_excel('tabela.xlsx')\n",
        "df.drop(df.columns[[0, 1]], axis=1, inplace=True)"
      ],
      "metadata": {
        "id": "H-t3A8wpLkq3"
      },
      "execution_count": null,
      "outputs": []
    },
    {
      "cell_type": "code",
      "source": [
        "# comando para apagar linhas no excel\n",
        "df.drop([2], axis=0, inplace=True)"
      ],
      "metadata": {
        "id": "HR51kyejLJXK"
      },
      "execution_count": null,
      "outputs": []
    },
    {
      "cell_type": "markdown",
      "source": [
        "#Cadastro de usuário e senha em uma tabela Excel"
      ],
      "metadata": {
        "id": "WCTV_2Fguex3"
      }
    },
    {
      "cell_type": "code",
      "source": [
        "import pandas as pd"
      ],
      "metadata": {
        "id": "HLnYYUWHxEP-"
      },
      "execution_count": null,
      "outputs": []
    },
    {
      "cell_type": "code",
      "source": [
        "#carregnado o arquivo excel\n",
        "df = pd.read_excel('tabela.xlsx')"
      ],
      "metadata": {
        "id": "INHUhh7YuWWS"
      },
      "execution_count": null,
      "outputs": []
    },
    {
      "cell_type": "code",
      "source": [
        "#adicionando um novo usuário e senha\n",
        "nome = input('Digite seu nome de usuário: ')\n",
        "senha = input('digite a sua senha: ')\n",
        "new_data = {'Nome':nome,'Senha':senha}\n",
        "df = df.append(new_data, ignore_index =True)\n",
        "\n",
        "#Salvand os dados atualizados na tabela excel\n",
        "df.to_excel('tabela.xlsx' , index=False)\n",
        "\n",
        "#Salvando os dados atualizados na tabela excel\n",
        "df.to_excel('tabela.xlsx' , index=False)"
      ],
      "metadata": {
        "id": "LNaNRzMMK56V",
        "colab": {
          "base_uri": "https://localhost:8080/"
        },
        "outputId": "f5a79635-824c-472e-8b8d-9dc612227ccf"
      },
      "execution_count": null,
      "outputs": [
        {
          "name": "stdout",
          "output_type": "stream",
          "text": [
            "Digite seu nome de usuário: Lucas\n",
            "digite a sua senha: 123\n"
          ]
        },
        {
          "output_type": "stream",
          "name": "stderr",
          "text": [
            "<ipython-input-32-4100dfeb4f61>:5: FutureWarning: The frame.append method is deprecated and will be removed from pandas in a future version. Use pandas.concat instead.\n",
            "  df = df.append(new_data, ignore_index =True)\n"
          ]
        }
      ]
    },
    {
      "cell_type": "markdown",
      "source": [
        "#Verificação de login e senha na tabela"
      ],
      "metadata": {
        "id": "UPPRCDt8M_PQ"
      }
    },
    {
      "cell_type": "code",
      "source": [
        "# Definindo função de verificação de login\n",
        "def verificar_login(nome, senha):\n",
        "    for index, row in df.iterrows():\n",
        "        if row['Nome'] == nome and row['Senha'] == senha:\n",
        "            return True\n",
        "    return False"
      ],
      "metadata": {
        "id": "RGZARySKHygG"
      },
      "execution_count": null,
      "outputs": []
    },
    {
      "cell_type": "code",
      "source": [
        "nome = input('Nome de usuário: ').strip\n",
        "senha = input('Senha: ').strip\n",
        "\n",
        "if verificar_login(nome, senha):\n",
        "    print('Login bem-sucedido!')\n",
        "else:\n",
        "    print('Nome de usuário ou senha incorretos.')"
      ],
      "metadata": {
        "id": "pvhBzCCdd4Bl"
      },
      "execution_count": null,
      "outputs": []
    }
  ]
}