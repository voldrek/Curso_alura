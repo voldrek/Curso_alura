{
  "nbformat": 4,
  "nbformat_minor": 0,
  "metadata": {
    "colab": {
      "provenance": [],
      "authorship_tag": "ABX9TyMADt4uAIos6hm4KPBQxalJ",
      "include_colab_link": true
    },
    "kernelspec": {
      "name": "python3",
      "display_name": "Python 3"
    },
    "language_info": {
      "name": "python"
    }
  },
  "cells": [
    {
      "cell_type": "markdown",
      "metadata": {
        "id": "view-in-github",
        "colab_type": "text"
      },
      "source": [
        "<a href=\"https://colab.research.google.com/github/voldrek/Curso_alura/blob/main/gerador_de_vendas_com_lojas_py.ipynb\" target=\"_parent\"><img src=\"https://colab.research.google.com/assets/colab-badge.svg\" alt=\"Open In Colab\"/></a>"
      ]
    },
    {
      "cell_type": "code",
      "execution_count": 1,
      "metadata": {
        "colab": {
          "base_uri": "https://localhost:8080/"
        },
        "id": "LDSLM5o_E5NV",
        "outputId": "fe3cfaf1-0ec1-4330-912c-f45948bf99a7"
      },
      "outputs": [
        {
          "output_type": "stream",
          "name": "stdout",
          "text": [
            "Arquivo de vendas com lojas por estado em formato xlsx gerado com sucesso!\n"
          ]
        }
      ],
      "source": [
        "import random\n",
        "from datetime import datetime, timedelta\n",
        "from openpyxl import Workbook\n",
        "\n",
        "# Função para gerar uma data aleatória no formato YYYY-MM-DD\n",
        "def random_date(start_date, end_date):\n",
        "    time_between_dates = end_date - start_date\n",
        "    days_between_dates = time_between_dates.days\n",
        "    random_number_of_days = random.randrange(days_between_dates)\n",
        "    random_date = start_date + timedelta(days=random_number_of_days)\n",
        "    return random_date\n",
        "\n",
        "# Definindo a data inicial e final para as vendas\n",
        "start_date = datetime(2023, 1, 1)\n",
        "end_date = datetime(2023, 12, 31)\n",
        "\n",
        "# Definindo os produtos e seus preços\n",
        "produtos = ['Produto A', 'Produto B', 'Produto C']\n",
        "precos = [10, 20, 30]\n",
        "\n",
        "# Lista de estados brasileiros e suas respectivas lojas\n",
        "estados = ['SP', 'RJ', 'MG', 'RS', 'BA', 'PR']\n",
        "lojas_por_estado = {'SP': 'Loja São Paulo',\n",
        "                    'RJ': 'Loja Rio de Janeiro',\n",
        "                    'MG': 'Loja Minas Gerais',\n",
        "                    'RS': 'Loja Rio Grande do Sul',\n",
        "                    'BA': 'Loja Bahia',\n",
        "                    'PR': 'Loja Paraná'}\n",
        "\n",
        "# Número de vendas a serem geradas\n",
        "num_vendas = 1000\n",
        "\n",
        "# Criar um novo workbook\n",
        "wb = Workbook()\n",
        "ws = wb.active\n",
        "\n",
        "# Definir cabeçalhos\n",
        "ws.append(['Data', 'Estado', 'Loja', 'Produto', 'Quantidade', 'Preço'])\n",
        "\n",
        "# Gerar e escrever os dados de vendas aleatórias\n",
        "for _ in range(num_vendas):\n",
        "    data = random_date(start_date, end_date)\n",
        "    estado = random.choice(estados)\n",
        "    loja = lojas_por_estado[estado]\n",
        "    produto = random.choice(produtos)\n",
        "    quantidade = random.randint(1, 50)\n",
        "    preco = random.choice(precos)\n",
        "    ws.append([data, estado, loja, produto, quantidade, preco])\n",
        "\n",
        "# Salvar o workbook\n",
        "wb.save('dados_de_vendas_com_lojas.xlsx')\n",
        "\n",
        "print(\"Arquivo de vendas com lojas por estado em formato xlsx gerado com sucesso!\")\n"
      ]
    }
  ]
}